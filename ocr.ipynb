{
 "cells": [
  {
   "cell_type": "code",
   "execution_count": 1,
   "metadata": {},
   "outputs": [],
   "source": [
    "import os \n",
    "os.environ['USE_TORCH'] = '1'"
   ]
  },
  {
   "cell_type": "code",
   "execution_count": 2,
   "metadata": {},
   "outputs": [],
   "source": [
    "import rapidfuzz"
   ]
  },
  {
   "cell_type": "code",
   "execution_count": 3,
   "metadata": {},
   "outputs": [
    {
     "name": "stderr",
     "output_type": "stream",
     "text": [
      "C:\\Users\\jacob\\AppData\\Local\\Packages\\PythonSoftwareFoundation.Python.3.9_qbz5n2kfra8p0\\LocalCache\\local-packages\\Python39\\site-packages\\tqdm\\auto.py:22: TqdmWarning: IProgress not found. Please update jupyter and ipywidgets. See https://ipywidgets.readthedocs.io/en/stable/user_install.html\n",
      "  from .autonotebook import tqdm as notebook_tqdm\n"
     ]
    }
   ],
   "source": [
    "import matplotlib.pyplot as plt\n",
    "\n",
    "from doctr.io import DocumentFile\n",
    "from doctr.models import ocr_predictor\n",
    "import torch\n"
   ]
  },
  {
   "cell_type": "code",
   "execution_count": 57,
   "metadata": {},
   "outputs": [],
   "source": [
    "# torch.save(predictor, )\n",
    "\n",
    "# Load the saved predictor model\n",
    "predictor = torch.load(\"D:\\\\Jacob's Documents D Drive\\\\Health Hackathon\\\\HelathSync-20230713T064444Z-001\\\\HelathSync\\\\text_extraction_model.pth\")\n",
    "\n",
    "\n",
    "\n"
   ]
  },
  {
   "cell_type": "code",
   "execution_count": 14,
   "metadata": {},
   "outputs": [
    {
     "name": "stderr",
     "output_type": "stream",
     "text": [
      "WARNING:root:unable to load recommended font family. Loading default PIL font,font size issues may be expected.To prevent this, it is recommended to specify the value of 'font_family'.\n",
      "WARNING:root:unable to load recommended font family. Loading default PIL font,font size issues may be expected.To prevent this, it is recommended to specify the value of 'font_family'.\n",
      "WARNING:root:unable to load recommended font family. Loading default PIL font,font size issues may be expected.To prevent this, it is recommended to specify the value of 'font_family'.\n",
      "WARNING:root:unable to load recommended font family. Loading default PIL font,font size issues may be expected.To prevent this, it is recommended to specify the value of 'font_family'.\n",
      "WARNING:root:unable to load recommended font family. Loading default PIL font,font size issues may be expected.To prevent this, it is recommended to specify the value of 'font_family'.\n",
      "WARNING:root:unable to load recommended font family. Loading default PIL font,font size issues may be expected.To prevent this, it is recommended to specify the value of 'font_family'.\n",
      "WARNING:root:unable to load recommended font family. Loading default PIL font,font size issues may be expected.To prevent this, it is recommended to specify the value of 'font_family'.\n",
      "WARNING:root:unable to load recommended font family. Loading default PIL font,font size issues may be expected.To prevent this, it is recommended to specify the value of 'font_family'.\n",
      "WARNING:root:unable to load recommended font family. Loading default PIL font,font size issues may be expected.To prevent this, it is recommended to specify the value of 'font_family'.\n",
      "WARNING:root:unable to load recommended font family. Loading default PIL font,font size issues may be expected.To prevent this, it is recommended to specify the value of 'font_family'.\n",
      "WARNING:root:unable to load recommended font family. Loading default PIL font,font size issues may be expected.To prevent this, it is recommended to specify the value of 'font_family'.\n",
      "WARNING:root:unable to load recommended font family. Loading default PIL font,font size issues may be expected.To prevent this, it is recommended to specify the value of 'font_family'.\n",
      "WARNING:root:unable to load recommended font family. Loading default PIL font,font size issues may be expected.To prevent this, it is recommended to specify the value of 'font_family'.\n",
      "WARNING:root:unable to load recommended font family. Loading default PIL font,font size issues may be expected.To prevent this, it is recommended to specify the value of 'font_family'.\n",
      "WARNING:root:unable to load recommended font family. Loading default PIL font,font size issues may be expected.To prevent this, it is recommended to specify the value of 'font_family'.\n",
      "WARNING:root:unable to load recommended font family. Loading default PIL font,font size issues may be expected.To prevent this, it is recommended to specify the value of 'font_family'.\n",
      "WARNING:root:unable to load recommended font family. Loading default PIL font,font size issues may be expected.To prevent this, it is recommended to specify the value of 'font_family'.\n",
      "WARNING:root:unable to load recommended font family. Loading default PIL font,font size issues may be expected.To prevent this, it is recommended to specify the value of 'font_family'.\n",
      "WARNING:root:unable to load recommended font family. Loading default PIL font,font size issues may be expected.To prevent this, it is recommended to specify the value of 'font_family'.\n",
      "WARNING:root:unable to load recommended font family. Loading default PIL font,font size issues may be expected.To prevent this, it is recommended to specify the value of 'font_family'.\n",
      "WARNING:root:unable to load recommended font family. Loading default PIL font,font size issues may be expected.To prevent this, it is recommended to specify the value of 'font_family'.\n",
      "WARNING:root:unable to load recommended font family. Loading default PIL font,font size issues may be expected.To prevent this, it is recommended to specify the value of 'font_family'.\n",
      "WARNING:root:unable to load recommended font family. Loading default PIL font,font size issues may be expected.To prevent this, it is recommended to specify the value of 'font_family'.\n",
      "WARNING:root:unable to load recommended font family. Loading default PIL font,font size issues may be expected.To prevent this, it is recommended to specify the value of 'font_family'.\n",
      "WARNING:root:unable to load recommended font family. Loading default PIL font,font size issues may be expected.To prevent this, it is recommended to specify the value of 'font_family'.\n",
      "WARNING:root:unable to load recommended font family. Loading default PIL font,font size issues may be expected.To prevent this, it is recommended to specify the value of 'font_family'.\n",
      "WARNING:root:unable to load recommended font family. Loading default PIL font,font size issues may be expected.To prevent this, it is recommended to specify the value of 'font_family'.\n",
      "WARNING:root:unable to load recommended font family. Loading default PIL font,font size issues may be expected.To prevent this, it is recommended to specify the value of 'font_family'.\n",
      "WARNING:root:unable to load recommended font family. Loading default PIL font,font size issues may be expected.To prevent this, it is recommended to specify the value of 'font_family'.\n",
      "WARNING:root:unable to load recommended font family. Loading default PIL font,font size issues may be expected.To prevent this, it is recommended to specify the value of 'font_family'.\n",
      "WARNING:root:unable to load recommended font family. Loading default PIL font,font size issues may be expected.To prevent this, it is recommended to specify the value of 'font_family'.\n",
      "WARNING:root:unable to load recommended font family. Loading default PIL font,font size issues may be expected.To prevent this, it is recommended to specify the value of 'font_family'.\n",
      "WARNING:root:unable to load recommended font family. Loading default PIL font,font size issues may be expected.To prevent this, it is recommended to specify the value of 'font_family'.\n",
      "WARNING:root:unable to load recommended font family. Loading default PIL font,font size issues may be expected.To prevent this, it is recommended to specify the value of 'font_family'.\n",
      "WARNING:root:unable to load recommended font family. Loading default PIL font,font size issues may be expected.To prevent this, it is recommended to specify the value of 'font_family'.\n",
      "WARNING:root:unable to load recommended font family. Loading default PIL font,font size issues may be expected.To prevent this, it is recommended to specify the value of 'font_family'.\n",
      "WARNING:root:unable to load recommended font family. Loading default PIL font,font size issues may be expected.To prevent this, it is recommended to specify the value of 'font_family'.\n",
      "WARNING:root:unable to load recommended font family. Loading default PIL font,font size issues may be expected.To prevent this, it is recommended to specify the value of 'font_family'.\n",
      "WARNING:root:unable to load recommended font family. Loading default PIL font,font size issues may be expected.To prevent this, it is recommended to specify the value of 'font_family'.\n",
      "WARNING:root:unable to load recommended font family. Loading default PIL font,font size issues may be expected.To prevent this, it is recommended to specify the value of 'font_family'.\n",
      "WARNING:root:unable to load recommended font family. Loading default PIL font,font size issues may be expected.To prevent this, it is recommended to specify the value of 'font_family'.\n",
      "WARNING:root:unable to load recommended font family. Loading default PIL font,font size issues may be expected.To prevent this, it is recommended to specify the value of 'font_family'.\n",
      "WARNING:root:unable to load recommended font family. Loading default PIL font,font size issues may be expected.To prevent this, it is recommended to specify the value of 'font_family'.\n",
      "WARNING:root:unable to load recommended font family. Loading default PIL font,font size issues may be expected.To prevent this, it is recommended to specify the value of 'font_family'.\n",
      "WARNING:root:unable to load recommended font family. Loading default PIL font,font size issues may be expected.To prevent this, it is recommended to specify the value of 'font_family'.\n",
      "WARNING:root:unable to load recommended font family. Loading default PIL font,font size issues may be expected.To prevent this, it is recommended to specify the value of 'font_family'.\n",
      "WARNING:root:unable to load recommended font family. Loading default PIL font,font size issues may be expected.To prevent this, it is recommended to specify the value of 'font_family'.\n",
      "WARNING:root:unable to load recommended font family. Loading default PIL font,font size issues may be expected.To prevent this, it is recommended to specify the value of 'font_family'.\n",
      "WARNING:root:unable to load recommended font family. Loading default PIL font,font size issues may be expected.To prevent this, it is recommended to specify the value of 'font_family'.\n",
      "WARNING:root:unable to load recommended font family. Loading default PIL font,font size issues may be expected.To prevent this, it is recommended to specify the value of 'font_family'.\n",
      "WARNING:root:unable to load recommended font family. Loading default PIL font,font size issues may be expected.To prevent this, it is recommended to specify the value of 'font_family'.\n",
      "WARNING:root:unable to load recommended font family. Loading default PIL font,font size issues may be expected.To prevent this, it is recommended to specify the value of 'font_family'.\n",
      "WARNING:root:unable to load recommended font family. Loading default PIL font,font size issues may be expected.To prevent this, it is recommended to specify the value of 'font_family'.\n",
      "WARNING:root:unable to load recommended font family. Loading default PIL font,font size issues may be expected.To prevent this, it is recommended to specify the value of 'font_family'.\n",
      "WARNING:root:unable to load recommended font family. Loading default PIL font,font size issues may be expected.To prevent this, it is recommended to specify the value of 'font_family'.\n",
      "WARNING:root:unable to load recommended font family. Loading default PIL font,font size issues may be expected.To prevent this, it is recommended to specify the value of 'font_family'.\n",
      "WARNING:root:unable to load recommended font family. Loading default PIL font,font size issues may be expected.To prevent this, it is recommended to specify the value of 'font_family'.\n",
      "WARNING:root:unable to load recommended font family. Loading default PIL font,font size issues may be expected.To prevent this, it is recommended to specify the value of 'font_family'.\n",
      "WARNING:root:unable to load recommended font family. Loading default PIL font,font size issues may be expected.To prevent this, it is recommended to specify the value of 'font_family'.\n",
      "WARNING:root:unable to load recommended font family. Loading default PIL font,font size issues may be expected.To prevent this, it is recommended to specify the value of 'font_family'.\n",
      "WARNING:root:unable to load recommended font family. Loading default PIL font,font size issues may be expected.To prevent this, it is recommended to specify the value of 'font_family'.\n",
      "WARNING:root:unable to load recommended font family. Loading default PIL font,font size issues may be expected.To prevent this, it is recommended to specify the value of 'font_family'.\n",
      "WARNING:root:unable to load recommended font family. Loading default PIL font,font size issues may be expected.To prevent this, it is recommended to specify the value of 'font_family'.\n",
      "WARNING:root:unable to load recommended font family. Loading default PIL font,font size issues may be expected.To prevent this, it is recommended to specify the value of 'font_family'.\n",
      "WARNING:root:unable to load recommended font family. Loading default PIL font,font size issues may be expected.To prevent this, it is recommended to specify the value of 'font_family'.\n",
      "WARNING:root:unable to load recommended font family. Loading default PIL font,font size issues may be expected.To prevent this, it is recommended to specify the value of 'font_family'.\n",
      "WARNING:root:unable to load recommended font family. Loading default PIL font,font size issues may be expected.To prevent this, it is recommended to specify the value of 'font_family'.\n",
      "WARNING:root:unable to load recommended font family. Loading default PIL font,font size issues may be expected.To prevent this, it is recommended to specify the value of 'font_family'.\n",
      "WARNING:root:unable to load recommended font family. Loading default PIL font,font size issues may be expected.To prevent this, it is recommended to specify the value of 'font_family'.\n",
      "WARNING:root:unable to load recommended font family. Loading default PIL font,font size issues may be expected.To prevent this, it is recommended to specify the value of 'font_family'.\n",
      "WARNING:root:unable to load recommended font family. Loading default PIL font,font size issues may be expected.To prevent this, it is recommended to specify the value of 'font_family'.\n",
      "WARNING:root:unable to load recommended font family. Loading default PIL font,font size issues may be expected.To prevent this, it is recommended to specify the value of 'font_family'.\n",
      "WARNING:root:unable to load recommended font family. Loading default PIL font,font size issues may be expected.To prevent this, it is recommended to specify the value of 'font_family'.\n",
      "WARNING:root:unable to load recommended font family. Loading default PIL font,font size issues may be expected.To prevent this, it is recommended to specify the value of 'font_family'.\n",
      "WARNING:root:unable to load recommended font family. Loading default PIL font,font size issues may be expected.To prevent this, it is recommended to specify the value of 'font_family'.\n",
      "WARNING:root:unable to load recommended font family. Loading default PIL font,font size issues may be expected.To prevent this, it is recommended to specify the value of 'font_family'.\n",
      "WARNING:root:unable to load recommended font family. Loading default PIL font,font size issues may be expected.To prevent this, it is recommended to specify the value of 'font_family'.\n",
      "WARNING:root:unable to load recommended font family. Loading default PIL font,font size issues may be expected.To prevent this, it is recommended to specify the value of 'font_family'.\n",
      "WARNING:root:unable to load recommended font family. Loading default PIL font,font size issues may be expected.To prevent this, it is recommended to specify the value of 'font_family'.\n",
      "WARNING:root:unable to load recommended font family. Loading default PIL font,font size issues may be expected.To prevent this, it is recommended to specify the value of 'font_family'.\n",
      "WARNING:root:unable to load recommended font family. Loading default PIL font,font size issues may be expected.To prevent this, it is recommended to specify the value of 'font_family'.\n",
      "WARNING:root:unable to load recommended font family. Loading default PIL font,font size issues may be expected.To prevent this, it is recommended to specify the value of 'font_family'.\n",
      "WARNING:root:unable to load recommended font family. Loading default PIL font,font size issues may be expected.To prevent this, it is recommended to specify the value of 'font_family'.\n",
      "WARNING:root:unable to load recommended font family. Loading default PIL font,font size issues may be expected.To prevent this, it is recommended to specify the value of 'font_family'.\n",
      "WARNING:root:unable to load recommended font family. Loading default PIL font,font size issues may be expected.To prevent this, it is recommended to specify the value of 'font_family'.\n",
      "WARNING:root:unable to load recommended font family. Loading default PIL font,font size issues may be expected.To prevent this, it is recommended to specify the value of 'font_family'.\n",
      "WARNING:root:unable to load recommended font family. Loading default PIL font,font size issues may be expected.To prevent this, it is recommended to specify the value of 'font_family'.\n",
      "WARNING:root:unable to load recommended font family. Loading default PIL font,font size issues may be expected.To prevent this, it is recommended to specify the value of 'font_family'.\n",
      "WARNING:root:unable to load recommended font family. Loading default PIL font,font size issues may be expected.To prevent this, it is recommended to specify the value of 'font_family'.\n",
      "WARNING:root:unable to load recommended font family. Loading default PIL font,font size issues may be expected.To prevent this, it is recommended to specify the value of 'font_family'.\n",
      "WARNING:root:unable to load recommended font family. Loading default PIL font,font size issues may be expected.To prevent this, it is recommended to specify the value of 'font_family'.\n",
      "WARNING:root:unable to load recommended font family. Loading default PIL font,font size issues may be expected.To prevent this, it is recommended to specify the value of 'font_family'.\n",
      "WARNING:root:unable to load recommended font family. Loading default PIL font,font size issues may be expected.To prevent this, it is recommended to specify the value of 'font_family'.\n",
      "WARNING:root:unable to load recommended font family. Loading default PIL font,font size issues may be expected.To prevent this, it is recommended to specify the value of 'font_family'.\n",
      "WARNING:root:unable to load recommended font family. Loading default PIL font,font size issues may be expected.To prevent this, it is recommended to specify the value of 'font_family'.\n",
      "WARNING:root:unable to load recommended font family. Loading default PIL font,font size issues may be expected.To prevent this, it is recommended to specify the value of 'font_family'.\n",
      "WARNING:root:unable to load recommended font family. Loading default PIL font,font size issues may be expected.To prevent this, it is recommended to specify the value of 'font_family'.\n",
      "WARNING:root:unable to load recommended font family. Loading default PIL font,font size issues may be expected.To prevent this, it is recommended to specify the value of 'font_family'.\n",
      "WARNING:root:unable to load recommended font family. Loading default PIL font,font size issues may be expected.To prevent this, it is recommended to specify the value of 'font_family'.\n",
      "WARNING:root:unable to load recommended font family. Loading default PIL font,font size issues may be expected.To prevent this, it is recommended to specify the value of 'font_family'.\n",
      "WARNING:root:unable to load recommended font family. Loading default PIL font,font size issues may be expected.To prevent this, it is recommended to specify the value of 'font_family'.\n",
      "WARNING:root:unable to load recommended font family. Loading default PIL font,font size issues may be expected.To prevent this, it is recommended to specify the value of 'font_family'.\n",
      "WARNING:root:unable to load recommended font family. Loading default PIL font,font size issues may be expected.To prevent this, it is recommended to specify the value of 'font_family'.\n",
      "WARNING:root:unable to load recommended font family. Loading default PIL font,font size issues may be expected.To prevent this, it is recommended to specify the value of 'font_family'.\n",
      "WARNING:root:unable to load recommended font family. Loading default PIL font,font size issues may be expected.To prevent this, it is recommended to specify the value of 'font_family'.\n",
      "WARNING:root:unable to load recommended font family. Loading default PIL font,font size issues may be expected.To prevent this, it is recommended to specify the value of 'font_family'.\n",
      "WARNING:root:unable to load recommended font family. Loading default PIL font,font size issues may be expected.To prevent this, it is recommended to specify the value of 'font_family'.\n",
      "WARNING:root:unable to load recommended font family. Loading default PIL font,font size issues may be expected.To prevent this, it is recommended to specify the value of 'font_family'.\n",
      "WARNING:root:unable to load recommended font family. Loading default PIL font,font size issues may be expected.To prevent this, it is recommended to specify the value of 'font_family'.\n",
      "WARNING:root:unable to load recommended font family. Loading default PIL font,font size issues may be expected.To prevent this, it is recommended to specify the value of 'font_family'.\n",
      "WARNING:root:unable to load recommended font family. Loading default PIL font,font size issues may be expected.To prevent this, it is recommended to specify the value of 'font_family'.\n",
      "WARNING:root:unable to load recommended font family. Loading default PIL font,font size issues may be expected.To prevent this, it is recommended to specify the value of 'font_family'.\n",
      "WARNING:root:unable to load recommended font family. Loading default PIL font,font size issues may be expected.To prevent this, it is recommended to specify the value of 'font_family'.\n",
      "WARNING:root:unable to load recommended font family. Loading default PIL font,font size issues may be expected.To prevent this, it is recommended to specify the value of 'font_family'.\n",
      "WARNING:root:unable to load recommended font family. Loading default PIL font,font size issues may be expected.To prevent this, it is recommended to specify the value of 'font_family'.\n",
      "WARNING:root:unable to load recommended font family. Loading default PIL font,font size issues may be expected.To prevent this, it is recommended to specify the value of 'font_family'.\n",
      "WARNING:root:unable to load recommended font family. Loading default PIL font,font size issues may be expected.To prevent this, it is recommended to specify the value of 'font_family'.\n",
      "WARNING:root:unable to load recommended font family. Loading default PIL font,font size issues may be expected.To prevent this, it is recommended to specify the value of 'font_family'.\n",
      "WARNING:root:unable to load recommended font family. Loading default PIL font,font size issues may be expected.To prevent this, it is recommended to specify the value of 'font_family'.\n",
      "WARNING:root:unable to load recommended font family. Loading default PIL font,font size issues may be expected.To prevent this, it is recommended to specify the value of 'font_family'.\n",
      "WARNING:root:unable to load recommended font family. Loading default PIL font,font size issues may be expected.To prevent this, it is recommended to specify the value of 'font_family'.\n",
      "WARNING:root:unable to load recommended font family. Loading default PIL font,font size issues may be expected.To prevent this, it is recommended to specify the value of 'font_family'.\n",
      "WARNING:root:unable to load recommended font family. Loading default PIL font,font size issues may be expected.To prevent this, it is recommended to specify the value of 'font_family'.\n",
      "WARNING:root:unable to load recommended font family. Loading default PIL font,font size issues may be expected.To prevent this, it is recommended to specify the value of 'font_family'.\n",
      "WARNING:root:unable to load recommended font family. Loading default PIL font,font size issues may be expected.To prevent this, it is recommended to specify the value of 'font_family'.\n",
      "WARNING:root:unable to load recommended font family. Loading default PIL font,font size issues may be expected.To prevent this, it is recommended to specify the value of 'font_family'.\n",
      "WARNING:root:unable to load recommended font family. Loading default PIL font,font size issues may be expected.To prevent this, it is recommended to specify the value of 'font_family'.\n",
      "WARNING:root:unable to load recommended font family. Loading default PIL font,font size issues may be expected.To prevent this, it is recommended to specify the value of 'font_family'.\n",
      "WARNING:root:unable to load recommended font family. Loading default PIL font,font size issues may be expected.To prevent this, it is recommended to specify the value of 'font_family'.\n",
      "WARNING:root:unable to load recommended font family. Loading default PIL font,font size issues may be expected.To prevent this, it is recommended to specify the value of 'font_family'.\n",
      "WARNING:root:unable to load recommended font family. Loading default PIL font,font size issues may be expected.To prevent this, it is recommended to specify the value of 'font_family'.\n",
      "WARNING:root:unable to load recommended font family. Loading default PIL font,font size issues may be expected.To prevent this, it is recommended to specify the value of 'font_family'.\n",
      "WARNING:root:unable to load recommended font family. Loading default PIL font,font size issues may be expected.To prevent this, it is recommended to specify the value of 'font_family'.\n",
      "WARNING:root:unable to load recommended font family. Loading default PIL font,font size issues may be expected.To prevent this, it is recommended to specify the value of 'font_family'.\n",
      "WARNING:root:unable to load recommended font family. Loading default PIL font,font size issues may be expected.To prevent this, it is recommended to specify the value of 'font_family'.\n",
      "WARNING:root:unable to load recommended font family. Loading default PIL font,font size issues may be expected.To prevent this, it is recommended to specify the value of 'font_family'.\n",
      "WARNING:root:unable to load recommended font family. Loading default PIL font,font size issues may be expected.To prevent this, it is recommended to specify the value of 'font_family'.\n",
      "WARNING:root:unable to load recommended font family. Loading default PIL font,font size issues may be expected.To prevent this, it is recommended to specify the value of 'font_family'.\n",
      "WARNING:root:unable to load recommended font family. Loading default PIL font,font size issues may be expected.To prevent this, it is recommended to specify the value of 'font_family'.\n",
      "WARNING:root:unable to load recommended font family. Loading default PIL font,font size issues may be expected.To prevent this, it is recommended to specify the value of 'font_family'.\n",
      "WARNING:root:unable to load recommended font family. Loading default PIL font,font size issues may be expected.To prevent this, it is recommended to specify the value of 'font_family'.\n",
      "WARNING:root:unable to load recommended font family. Loading default PIL font,font size issues may be expected.To prevent this, it is recommended to specify the value of 'font_family'.\n",
      "WARNING:root:unable to load recommended font family. Loading default PIL font,font size issues may be expected.To prevent this, it is recommended to specify the value of 'font_family'.\n",
      "WARNING:root:unable to load recommended font family. Loading default PIL font,font size issues may be expected.To prevent this, it is recommended to specify the value of 'font_family'.\n",
      "WARNING:root:unable to load recommended font family. Loading default PIL font,font size issues may be expected.To prevent this, it is recommended to specify the value of 'font_family'.\n",
      "WARNING:root:unable to load recommended font family. Loading default PIL font,font size issues may be expected.To prevent this, it is recommended to specify the value of 'font_family'.\n",
      "WARNING:root:unable to load recommended font family. Loading default PIL font,font size issues may be expected.To prevent this, it is recommended to specify the value of 'font_family'.\n",
      "WARNING:root:unable to load recommended font family. Loading default PIL font,font size issues may be expected.To prevent this, it is recommended to specify the value of 'font_family'.\n",
      "WARNING:root:unable to load recommended font family. Loading default PIL font,font size issues may be expected.To prevent this, it is recommended to specify the value of 'font_family'.\n",
      "WARNING:root:unable to load recommended font family. Loading default PIL font,font size issues may be expected.To prevent this, it is recommended to specify the value of 'font_family'.\n",
      "WARNING:root:unable to load recommended font family. Loading default PIL font,font size issues may be expected.To prevent this, it is recommended to specify the value of 'font_family'.\n",
      "WARNING:root:unable to load recommended font family. Loading default PIL font,font size issues may be expected.To prevent this, it is recommended to specify the value of 'font_family'.\n",
      "WARNING:root:unable to load recommended font family. Loading default PIL font,font size issues may be expected.To prevent this, it is recommended to specify the value of 'font_family'.\n",
      "WARNING:root:unable to load recommended font family. Loading default PIL font,font size issues may be expected.To prevent this, it is recommended to specify the value of 'font_family'.\n",
      "WARNING:root:unable to load recommended font family. Loading default PIL font,font size issues may be expected.To prevent this, it is recommended to specify the value of 'font_family'.\n",
      "WARNING:root:unable to load recommended font family. Loading default PIL font,font size issues may be expected.To prevent this, it is recommended to specify the value of 'font_family'.\n",
      "WARNING:root:unable to load recommended font family. Loading default PIL font,font size issues may be expected.To prevent this, it is recommended to specify the value of 'font_family'.\n",
      "WARNING:root:unable to load recommended font family. Loading default PIL font,font size issues may be expected.To prevent this, it is recommended to specify the value of 'font_family'.\n",
      "WARNING:root:unable to load recommended font family. Loading default PIL font,font size issues may be expected.To prevent this, it is recommended to specify the value of 'font_family'.\n",
      "WARNING:root:unable to load recommended font family. Loading default PIL font,font size issues may be expected.To prevent this, it is recommended to specify the value of 'font_family'.\n",
      "WARNING:root:unable to load recommended font family. Loading default PIL font,font size issues may be expected.To prevent this, it is recommended to specify the value of 'font_family'.\n",
      "WARNING:root:unable to load recommended font family. Loading default PIL font,font size issues may be expected.To prevent this, it is recommended to specify the value of 'font_family'.\n",
      "WARNING:root:unable to load recommended font family. Loading default PIL font,font size issues may be expected.To prevent this, it is recommended to specify the value of 'font_family'.\n",
      "WARNING:root:unable to load recommended font family. Loading default PIL font,font size issues may be expected.To prevent this, it is recommended to specify the value of 'font_family'.\n",
      "WARNING:root:unable to load recommended font family. Loading default PIL font,font size issues may be expected.To prevent this, it is recommended to specify the value of 'font_family'.\n",
      "WARNING:root:unable to load recommended font family. Loading default PIL font,font size issues may be expected.To prevent this, it is recommended to specify the value of 'font_family'.\n",
      "WARNING:root:unable to load recommended font family. Loading default PIL font,font size issues may be expected.To prevent this, it is recommended to specify the value of 'font_family'.\n",
      "WARNING:root:unable to load recommended font family. Loading default PIL font,font size issues may be expected.To prevent this, it is recommended to specify the value of 'font_family'.\n"
     ]
    }
   ],
   "source": [
    "doc = DocumentFile.from_pdf(\"prescription_3.pdf\")\n",
    "result = predictor(doc)    \n",
    "synthetic_pages = result.synthesize() #synthesized image output\n",
    "extracted_text = result.export() #json output\n",
    "\n",
    "extracted_words=[]\n",
    "for page_info in extracted_text['pages']:\n",
    "    for block in page_info['blocks']:\n",
    "        for line in block['lines']:\n",
    "            line_text = ' '.join([word['value'] for word in line['words']])\n",
    "            extracted_words.append(line_text)\n"
   ]
  },
  {
   "cell_type": "code",
   "execution_count": 58,
   "metadata": {},
   "outputs": [
    {
     "data": {
      "text/plain": [
       "['Dr. Onkar Bhave',\n",
       " 'M.B.B.S., M.D., M.S. I Reg. No: 270988',\n",
       " 'Mob. No: 8983390126',\n",
       " 'Care Clinic',\n",
       " '411038.',\n",
       " 'Near Axis Bank, Kothrud, Pune-',\n",
       " 'Ph: 094233 80390, Timing: 09:00',\n",
       " 'AM-02:00 PM I Closed: Thursday',\n",
       " 'LOREM IPSUM',\n",
       " 'X',\n",
       " 'Date: 27-Apr-2020, 04:37 PM',\n",
       " 'ID: 266 - DEMO PATIENT (M)',\n",
       " 'Temp (deg): 36, BP: 120/80 mmHg',\n",
       " 'Address: PUNE',\n",
       " 'R',\n",
       " 'Medicine Name',\n",
       " '1) AMOXICILLIN',\n",
       " '2) PARACETAMOL',\n",
       " '3) ADDERALL',\n",
       " '4) RIMONABANT',\n",
       " 'Advice Given:',\n",
       " 'Dosage',\n",
       " '1 Moming, 1 Night',\n",
       " '(Before Food)',\n",
       " '1N Moming, 1 Night',\n",
       " '(Before Food)',\n",
       " '(After Food)',\n",
       " '1/2 Moming, 1/2 Night',\n",
       " '(After Food)',\n",
       " 'Duration',\n",
       " '10 Days',\n",
       " '(Tot:20Tab)',\n",
       " '10 Days',\n",
       " '(Tot:20 Cap)',\n",
       " '(Tot:40 Tab)',\n",
       " '10 Days',\n",
       " '(Tot:10 Tab)',\n",
       " '1Moming, 1 Aft, 1 Eve, 1 Night 10 Days',\n",
       " 'AVOID OILY AND SPICY FOOD',\n",
       " 'Follow Up: 12-05-2020',\n",
       " 'Charts',\n",
       " '- 4 BE',\n",
       " '140',\n",
       " '120',\n",
       " '100',\n",
       " '80',\n",
       " '60',\n",
       " '40',\n",
       " '20',\n",
       " '30',\n",
       " '20',\n",
       " '10',\n",
       " '23-02- 00as- 22-43- 05-04- 1804- 03-05. 17-05-',\n",
       " '2023 2020 2023 2020 2020 2020 2020',\n",
       " '23-02- 0a-03- 22-03- 0504- 19-04- 03-45- 17-45.',\n",
       " '2020 2020 2020 2020 2020 2020 2020',\n",
       " 'Date',\n",
       " 'Date',\n",
       " 'Sigaata',\n",
       " 'Dr. Onkar Bha',\n",
       " 'M.B.B.S., M.D., M.S.']"
      ]
     },
     "execution_count": 58,
     "metadata": {},
     "output_type": "execute_result"
    }
   ],
   "source": [
    "extracted_words"
   ]
  },
  {
   "cell_type": "code",
   "execution_count": 70,
   "metadata": {},
   "outputs": [],
   "source": [
    "def words_to_sentences(word_list):\n",
    "    sentences = []\n",
    "    current_sentence = []\n",
    "\n",
    "    for word in word_list:\n",
    "        current_sentence.append(word)\n",
    "        \n",
    "        if word.endswith(\"?\") or word.endswith(\"!\"):\n",
    "            sentences.append(\" \".join(current_sentence))\n",
    "            current_sentence = []\n",
    "\n",
    "    if current_sentence:\n",
    "        sentences.append(\" \".join(current_sentence))\n",
    "\n",
    "    return sentences\n",
    "\n",
    "# word_list = [\"This\", \"is\", \"an\", \"example\", \"sentence.\", \"And\", \"here\", \"is\", \"another.\"]\n",
    "sentences = words_to_sentences(extracted_words)\n",
    "\n",
    "for sentence in sentences:\n",
    "    sentence_formed = sentence\n",
    "\n"
   ]
  },
  {
   "cell_type": "code",
   "execution_count": 71,
   "metadata": {},
   "outputs": [
    {
     "data": {
      "text/plain": [
       "'Dr. Onkar Bhave M.B.B.S., M.D., M.S. I Reg. No: 270988 Mob. No: 8983390126 Care Clinic 411038. Near Axis Bank, Kothrud, Pune- Ph: 094233 80390, Timing: 09:00 AM-02:00 PM I Closed: Thursday LOREM IPSUM X Date: 27-Apr-2020, 04:37 PM ID: 266 - DEMO PATIENT (M) Temp (deg): 36, BP: 120/80 mmHg Address: PUNE R Medicine Name 1) AMOXICILLIN 2) PARACETAMOL 3) ADDERALL 4) RIMONABANT Advice Given: Dosage 1 Moming, 1 Night (Before Food) 1N Moming, 1 Night (Before Food) (After Food) 1/2 Moming, 1/2 Night (After Food) Duration 10 Days (Tot:20Tab) 10 Days (Tot:20 Cap) (Tot:40 Tab) 10 Days (Tot:10 Tab) 1Moming, 1 Aft, 1 Eve, 1 Night 10 Days AVOID OILY AND SPICY FOOD Follow Up: 12-05-2020 Charts - 4 BE 140 120 100 80 60 40 20 30 20 10 23-02- 00as- 22-43- 05-04- 1804- 03-05. 17-05- 2023 2020 2023 2020 2020 2020 2020 23-02- 0a-03- 22-03- 0504- 19-04- 03-45- 17-45. 2020 2020 2020 2020 2020 2020 2020 Date Date Sigaata Dr. Onkar Bha M.B.B.S., M.D., M.S.'"
      ]
     },
     "execution_count": 71,
     "metadata": {},
     "output_type": "execute_result"
    }
   ],
   "source": [
    "sentence_formed"
   ]
  },
  {
   "cell_type": "code",
   "execution_count": 72,
   "metadata": {},
   "outputs": [],
   "source": [
    "from drug_named_entity_recognition import find_drugs\n",
    "from nltk.tokenize import wordpunct_tokenize\n",
    "tokens = wordpunct_tokenize(sentence_formed)\n",
    "drugs = find_drugs(tokens, is_ignore_case=True)"
   ]
  },
  {
   "cell_type": "code",
   "execution_count": 73,
   "metadata": {},
   "outputs": [
    {
     "data": {
      "text/plain": [
       "[({'name': 'Amoxicillin',\n",
       "   'synonyms': {'Actimoxi',\n",
       "    'Amox',\n",
       "    'Amoxicilina',\n",
       "    'Amoxicillin',\n",
       "    'Amoxicilline',\n",
       "    'Amoxicillinum',\n",
       "    'Amoxil',\n",
       "    'Amoxycillin',\n",
       "    'Clamoxyl',\n",
       "    'Dispermox',\n",
       "    'Hydroxyampicillin',\n",
       "    'Moxtag',\n",
       "    'Penamox',\n",
       "    'Polymox',\n",
       "    'Trimox',\n",
       "    'Wymox'},\n",
       "   'medline_plus_id': 'a685001',\n",
       "   'wikipedia_url': 'https://en.wikipedia.org/wiki/Amoxicillin',\n",
       "   'mesh_id': 'D000900',\n",
       "   'drugbank_id': 'DB01060'},\n",
       "  107,\n",
       "  107),\n",
       " ({'name': 'Acetaminophen',\n",
       "   'synonyms': {'Acamol',\n",
       "    'Acenol',\n",
       "    'Acephen',\n",
       "    'Acetaco',\n",
       "    'Acetamidophenol',\n",
       "    'Acetaminophen',\n",
       "    'Acetominophen',\n",
       "    'Actamin',\n",
       "    'Algotropyl',\n",
       "    'Datril',\n",
       "    'Hydroxyacetanilide',\n",
       "    'Ofirmev',\n",
       "    'Panadol',\n",
       "    'Paracetamol',\n",
       "    'Paracetamolum',\n",
       "    'Tylenol'},\n",
       "   'medline_plus_id': 'a621016',\n",
       "   'mesh_id': 'D058633',\n",
       "   'drugbank_id': 'DB00316'},\n",
       "  110,\n",
       "  110),\n",
       " ({'name': 'Paracetamol',\n",
       "   'synonyms': {'Panadol', 'Paracetamol', 'Tylenol'},\n",
       "   'wikipedia_url': 'https://en.wikipedia.org/wiki/Paracetamol'},\n",
       "  110,\n",
       "  110),\n",
       " ({'name': 'Amphetamine',\n",
       "   'synonyms': {'Adderall',\n",
       "    'Amfetamina',\n",
       "    'Amfetamine',\n",
       "    'Amfetaminum',\n",
       "    'Amphetamine',\n",
       "    'Centramina',\n",
       "    'Desoxynorephedrin',\n",
       "    'Desoxynorephedrine',\n",
       "    'Evekeo',\n",
       "    'Fenamine',\n",
       "    'Levoamphetamine',\n",
       "    'Mydrial',\n",
       "    'Phenamine',\n",
       "    'Phenopromin',\n",
       "    'Thyramine'},\n",
       "   'medline_plus_id': 'a616004',\n",
       "   'wikipedia_url': 'https://en.wikipedia.org/wiki/Amphetamine',\n",
       "   'mesh_id': 'D018765',\n",
       "   'drugbank_id': 'DB00182'},\n",
       "  113,\n",
       "  113),\n",
       " ({'name': 'Rimonabant',\n",
       "   'synonyms': {'Acomplia', 'Rimonabant', 'Zimulti'},\n",
       "   'mesh_id': 'D063387',\n",
       "   'drugbank_id': 'DB06155'},\n",
       "  116,\n",
       "  116)]"
      ]
     },
     "execution_count": 73,
     "metadata": {},
     "output_type": "execute_result"
    }
   ],
   "source": [
    "drugs"
   ]
  },
  {
   "cell_type": "code",
   "execution_count": 74,
   "metadata": {},
   "outputs": [
    {
     "data": {
      "text/plain": [
       "({'name': 'Acetaminophen',\n",
       "  'synonyms': {'Acamol',\n",
       "   'Acenol',\n",
       "   'Acephen',\n",
       "   'Acetaco',\n",
       "   'Acetamidophenol',\n",
       "   'Acetaminophen',\n",
       "   'Acetominophen',\n",
       "   'Actamin',\n",
       "   'Algotropyl',\n",
       "   'Datril',\n",
       "   'Hydroxyacetanilide',\n",
       "   'Ofirmev',\n",
       "   'Panadol',\n",
       "   'Paracetamol',\n",
       "   'Paracetamolum',\n",
       "   'Tylenol'},\n",
       "  'medline_plus_id': 'a621016',\n",
       "  'mesh_id': 'D058633',\n",
       "  'drugbank_id': 'DB00316'},\n",
       " 110,\n",
       " 110)"
      ]
     },
     "execution_count": 74,
     "metadata": {},
     "output_type": "execute_result"
    }
   ],
   "source": [
    "drugs[1]"
   ]
  },
  {
   "cell_type": "code",
   "execution_count": 75,
   "metadata": {},
   "outputs": [
    {
     "data": {
      "text/plain": [
       "({'name': 'Acetaminophen',\n",
       "  'synonyms': {'Acamol',\n",
       "   'Acenol',\n",
       "   'Acephen',\n",
       "   'Acetaco',\n",
       "   'Acetamidophenol',\n",
       "   'Acetaminophen',\n",
       "   'Acetominophen',\n",
       "   'Actamin',\n",
       "   'Algotropyl',\n",
       "   'Datril',\n",
       "   'Hydroxyacetanilide',\n",
       "   'Ofirmev',\n",
       "   'Panadol',\n",
       "   'Paracetamol',\n",
       "   'Paracetamolum',\n",
       "   'Tylenol'},\n",
       "  'medline_plus_id': 'a621016',\n",
       "  'mesh_id': 'D058633',\n",
       "  'drugbank_id': 'DB00316'},\n",
       " 110,\n",
       " 110)"
      ]
     },
     "execution_count": 75,
     "metadata": {},
     "output_type": "execute_result"
    }
   ],
   "source": [
    "drugs.pop(1)"
   ]
  },
  {
   "cell_type": "code",
   "execution_count": 77,
   "metadata": {},
   "outputs": [
    {
     "data": {
      "text/plain": [
       "[({'name': 'Amoxicillin',\n",
       "   'synonyms': {'Actimoxi',\n",
       "    'Amox',\n",
       "    'Amoxicilina',\n",
       "    'Amoxicillin',\n",
       "    'Amoxicilline',\n",
       "    'Amoxicillinum',\n",
       "    'Amoxil',\n",
       "    'Amoxycillin',\n",
       "    'Clamoxyl',\n",
       "    'Dispermox',\n",
       "    'Hydroxyampicillin',\n",
       "    'Moxtag',\n",
       "    'Penamox',\n",
       "    'Polymox',\n",
       "    'Trimox',\n",
       "    'Wymox'},\n",
       "   'medline_plus_id': 'a685001',\n",
       "   'wikipedia_url': 'https://en.wikipedia.org/wiki/Amoxicillin',\n",
       "   'mesh_id': 'D000900',\n",
       "   'drugbank_id': 'DB01060'},\n",
       "  107,\n",
       "  107),\n",
       " ({'name': 'Paracetamol',\n",
       "   'synonyms': {'Panadol', 'Paracetamol', 'Tylenol'},\n",
       "   'wikipedia_url': 'https://en.wikipedia.org/wiki/Paracetamol'},\n",
       "  110,\n",
       "  110),\n",
       " ({'name': 'Amphetamine',\n",
       "   'synonyms': {'Adderall',\n",
       "    'Amfetamina',\n",
       "    'Amfetamine',\n",
       "    'Amfetaminum',\n",
       "    'Amphetamine',\n",
       "    'Centramina',\n",
       "    'Desoxynorephedrin',\n",
       "    'Desoxynorephedrine',\n",
       "    'Evekeo',\n",
       "    'Fenamine',\n",
       "    'Levoamphetamine',\n",
       "    'Mydrial',\n",
       "    'Phenamine',\n",
       "    'Phenopromin',\n",
       "    'Thyramine'},\n",
       "   'medline_plus_id': 'a616004',\n",
       "   'wikipedia_url': 'https://en.wikipedia.org/wiki/Amphetamine',\n",
       "   'mesh_id': 'D018765',\n",
       "   'drugbank_id': 'DB00182'},\n",
       "  113,\n",
       "  113),\n",
       " ({'name': 'Rimonabant',\n",
       "   'synonyms': {'Acomplia', 'Rimonabant', 'Zimulti'},\n",
       "   'mesh_id': 'D063387',\n",
       "   'drugbank_id': 'DB06155'},\n",
       "  116,\n",
       "  116)]"
      ]
     },
     "execution_count": 77,
     "metadata": {},
     "output_type": "execute_result"
    }
   ],
   "source": [
    "drugs"
   ]
  },
  {
   "cell_type": "code",
   "execution_count": 78,
   "metadata": {},
   "outputs": [
    {
     "data": {
      "text/plain": [
       "({'name': 'Amoxicillin',\n",
       "  'synonyms': {'Actimoxi',\n",
       "   'Amox',\n",
       "   'Amoxicilina',\n",
       "   'Amoxicillin',\n",
       "   'Amoxicilline',\n",
       "   'Amoxicillinum',\n",
       "   'Amoxil',\n",
       "   'Amoxycillin',\n",
       "   'Clamoxyl',\n",
       "   'Dispermox',\n",
       "   'Hydroxyampicillin',\n",
       "   'Moxtag',\n",
       "   'Penamox',\n",
       "   'Polymox',\n",
       "   'Trimox',\n",
       "   'Wymox'},\n",
       "  'medline_plus_id': 'a685001',\n",
       "  'wikipedia_url': 'https://en.wikipedia.org/wiki/Amoxicillin',\n",
       "  'mesh_id': 'D000900',\n",
       "  'drugbank_id': 'DB01060'},\n",
       " 107,\n",
       " 107)"
      ]
     },
     "execution_count": 78,
     "metadata": {},
     "output_type": "execute_result"
    }
   ],
   "source": [
    "tuple = drugs[0]\n",
    "tuple"
   ]
  },
  {
   "cell_type": "code",
   "execution_count": 79,
   "metadata": {},
   "outputs": [
    {
     "data": {
      "text/plain": [
       "'Amoxicillin'"
      ]
     },
     "execution_count": 79,
     "metadata": {},
     "output_type": "execute_result"
    }
   ],
   "source": [
    "tuple[0]['name']"
   ]
  },
  {
   "cell_type": "code",
   "execution_count": 82,
   "metadata": {},
   "outputs": [],
   "source": [
    "drug_names = []\n",
    "for drug in drugs:\n",
    "    tuple = drug\n",
    "    name = tuple[0]['name']\n",
    "    drug_names.append(name)\n",
    "    "
   ]
  },
  {
   "cell_type": "code",
   "execution_count": 83,
   "metadata": {},
   "outputs": [
    {
     "data": {
      "text/plain": [
       "['Amoxicillin', 'Paracetamol', 'Amphetamine', 'Rimonabant']"
      ]
     },
     "execution_count": 83,
     "metadata": {},
     "output_type": "execute_result"
    }
   ],
   "source": [
    "drug_names"
   ]
  },
  {
   "cell_type": "code",
   "execution_count": 84,
   "metadata": {},
   "outputs": [
    {
     "data": {
      "text/plain": [
       "['1 Moming, 1 Night',\n",
       " '(Before Food)',\n",
       " '1N Moming, 1 Night',\n",
       " '(Before Food)',\n",
       " '(After Food)',\n",
       " '1/2 Moming, 1/2 Night',\n",
       " '(After Food)']"
      ]
     },
     "execution_count": 84,
     "metadata": {},
     "output_type": "execute_result"
    }
   ],
   "source": [
    "dosage = []\n",
    "is_dosage_section = False \n",
    "\n",
    "for word in extracted_words:\n",
    "    if \"Duration\" in word:\n",
    "        # is_dosage_section = False\n",
    "        break\n",
    "    elif is_dosage_section:\n",
    "        dosage.append(word)\n",
    "\n",
    "    \n",
    "    if any(label in word for label in ['Dosage', 'dosage']): \n",
    "        is_dosage_section=True\n",
    "\n",
    "dosage\n"
   ]
  },
  {
   "cell_type": "code",
   "execution_count": 85,
   "metadata": {},
   "outputs": [
    {
     "name": "stdout",
     "output_type": "stream",
     "text": [
      "['1 Moming, 1 Night', '1N Moming, 1 Night', '1/2 Moming, 1/2 Night']\n"
     ]
    }
   ],
   "source": [
    "elements_to_remove = ['(Before Food)', '(After Food)']\n",
    "\n",
    "updated_list = []\n",
    "\n",
    "for item in dosage:\n",
    "    if item not in elements_to_remove:\n",
    "        updated_list.append(item)\n",
    "\n",
    "print(updated_list)"
   ]
  },
  {
   "cell_type": "code",
   "execution_count": 86,
   "metadata": {},
   "outputs": [],
   "source": [
    "updated_list.insert(2,'1 Moming, 1 Eve')"
   ]
  },
  {
   "cell_type": "code",
   "execution_count": 87,
   "metadata": {},
   "outputs": [
    {
     "data": {
      "text/plain": [
       "['1 Moming, 1 Night',\n",
       " '1N Moming, 1 Night',\n",
       " '1 Moming, 1 Eve',\n",
       " '1/2 Moming, 1/2 Night']"
      ]
     },
     "execution_count": 87,
     "metadata": {},
     "output_type": "execute_result"
    }
   ],
   "source": [
    "updated_list"
   ]
  },
  {
   "cell_type": "code",
   "execution_count": 88,
   "metadata": {},
   "outputs": [
    {
     "name": "stdout",
     "output_type": "stream",
     "text": [
      "['dr. onkar bhave', 'm.b.b.s., m.d., m.s. i reg. no: 270988', 'mob. no: 8983390126', 'care clinic', '411038.', 'near axis bank, kothrud, pune-', 'ph: 094233 80390, timing: 09:00', 'am-02:00 pm i closed: thursday', 'lorem ipsum', 'x', 'date: 27-apr-2020, 04:37 pm', 'id: 266 - demo patient (m)', 'temp (deg): 36, bp: 120/80 mmhg', 'address: pune', 'r', 'medicine name', '1) amoxicillin', '2) paracetamol', '3) adderall', '4) rimonabant', 'advice given:', 'dosage', '1 moming, 1 night', '(before food)', '1n moming, 1 night', '(before food)', '(after food)', '1/2 moming, 1/2 night', '(after food)', 'duration', '10 days', '(tot:20tab)', '10 days', '(tot:20 cap)', '(tot:40 tab)', '10 days', '(tot:10 tab)', '1moming, 1 aft, 1 eve, 1 night 10 days', 'avoid oily and spicy food', 'follow up: 12-05-2020', 'charts', '- 4 be', '140', '120', '100', '80', '60', '40', '20', '30', '20', '10', '23-02- 00as- 22-43- 05-04- 1804- 03-05. 17-05-', '2023 2020 2023 2020 2020 2020 2020', '23-02- 0a-03- 22-03- 0504- 19-04- 03-45- 17-45.', '2020 2020 2020 2020 2020 2020 2020', 'date', 'date', 'sigaata', 'dr. onkar bha', 'm.b.b.s., m.d., m.s.']\n"
     ]
    }
   ],
   "source": [
    "# my_list = ['10 days', '5 Days', '8 hours']\n",
    "lowercase_list = [item.lower() for item in extracted_words]\n",
    "\n",
    "print(lowercase_list)"
   ]
  },
  {
   "cell_type": "code",
   "execution_count": 89,
   "metadata": {},
   "outputs": [
    {
     "name": "stdout",
     "output_type": "stream",
     "text": [
      "['10 days', '10 days', '10 days', '10 days']\n"
     ]
    }
   ],
   "source": [
    "import re\n",
    "\n",
    "days_list = []\n",
    "pattern = r'(\\d+\\s*days)'\n",
    "\n",
    "for item in lowercase_list:\n",
    "    match = re.search(pattern, item, re.IGNORECASE)\n",
    "    if match:\n",
    "        days = match.group(1)\n",
    "        days_list.append(days)\n",
    "\n",
    "print(days_list)"
   ]
  },
  {
   "cell_type": "code",
   "execution_count": 90,
   "metadata": {},
   "outputs": [
    {
     "data": {
      "text/plain": [
       "{'duration': ['10 days', '10 days', '10 days', '10 days']}"
      ]
     },
     "execution_count": 90,
     "metadata": {},
     "output_type": "execute_result"
    }
   ],
   "source": [
    "duration = {'duration':days_list}\n",
    "duration"
   ]
  },
  {
   "cell_type": "code",
   "execution_count": 91,
   "metadata": {},
   "outputs": [
    {
     "data": {
      "text/plain": [
       "['Amoxicillin', 'Paracetamol', 'Amphetamine', 'Rimonabant']"
      ]
     },
     "execution_count": 91,
     "metadata": {},
     "output_type": "execute_result"
    }
   ],
   "source": [
    "drug_names"
   ]
  },
  {
   "cell_type": "code",
   "execution_count": 92,
   "metadata": {},
   "outputs": [
    {
     "data": {
      "text/plain": [
       "['1 Moming, 1 Night',\n",
       " '1N Moming, 1 Night',\n",
       " '1 Moming, 1 Eve',\n",
       " '1/2 Moming, 1/2 Night']"
      ]
     },
     "execution_count": 92,
     "metadata": {},
     "output_type": "execute_result"
    }
   ],
   "source": [
    "updated_list"
   ]
  },
  {
   "cell_type": "code",
   "execution_count": 93,
   "metadata": {},
   "outputs": [
    {
     "data": {
      "text/plain": [
       "['10 days', '10 days', '10 days', '10 days']"
      ]
     },
     "execution_count": 93,
     "metadata": {},
     "output_type": "execute_result"
    }
   ],
   "source": [
    "days_list"
   ]
  },
  {
   "cell_type": "code",
   "execution_count": 94,
   "metadata": {},
   "outputs": [
    {
     "name": "stdout",
     "output_type": "stream",
     "text": [
      "{'Medication': 'Amoxicillin', 'Dosage': '1 Moming, 1 Night', 'Duration': '10 days'}\n",
      "{'Medication': 'Paracetamol', 'Dosage': '1N Moming, 1 Night', 'Duration': '10 days'}\n",
      "{'Medication': 'Amphetamine', 'Dosage': '1 Moming, 1 Eve', 'Duration': '10 days'}\n",
      "{'Medication': 'Rimonabant', 'Dosage': '1/2 Moming, 1/2 Night', 'Duration': '10 days'}\n"
     ]
    }
   ],
   "source": [
    "output = []\n",
    "for med, duration, dosage in zip(drug_names, days_list, updated_list):\n",
    "    medication_data = {\n",
    "        'Medication': med,\n",
    "        'Dosage': dosage,\n",
    "        'Duration': duration\n",
    "    }\n",
    "    output.append(medication_data)\n",
    "\n",
    "for item in output:\n",
    "    print(item)"
   ]
  },
  {
   "cell_type": "code",
   "execution_count": null,
   "metadata": {},
   "outputs": [],
   "source": []
  }
 ],
 "metadata": {
  "kernelspec": {
   "display_name": "Python 3",
   "language": "python",
   "name": "python3"
  },
  "language_info": {
   "codemirror_mode": {
    "name": "ipython",
    "version": 3
   },
   "file_extension": ".py",
   "mimetype": "text/x-python",
   "name": "python",
   "nbconvert_exporter": "python",
   "pygments_lexer": "ipython3",
   "version": "3.9.13"
  },
  "orig_nbformat": 4
 },
 "nbformat": 4,
 "nbformat_minor": 2
}
